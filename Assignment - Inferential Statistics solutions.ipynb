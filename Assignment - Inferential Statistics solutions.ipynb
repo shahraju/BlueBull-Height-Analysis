{
 "cells": [
  {
   "cell_type": "markdown",
   "id": "7c337545",
   "metadata": {},
   "source": [
    "## Assignment - Inferential Statistics"
   ]
  },
  {
   "cell_type": "markdown",
   "id": "3f0d83ae",
   "metadata": {},
   "source": [
    "## BlueBull Marketing"
   ]
  },
  {
   "cell_type": "markdown",
   "id": "38a0d667",
   "metadata": {},
   "source": [
    "## Loading data"
   ]
  },
  {
   "cell_type": "code",
   "execution_count": 1,
   "id": "32aea15f-806e-40c3-a960-2c9a2c8dec76",
   "metadata": {},
   "outputs": [],
   "source": [
    "import pandas as pd  \n",
    "import numpy as np  \n",
    "import matplotlib.pyplot as plt  \n",
    "import seaborn as sns  \n",
    "from scipy import stats  \n"
   ]
  },
  {
   "cell_type": "code",
   "execution_count": 2,
   "id": "ff956c88-0604-4988-8484-27655b829230",
   "metadata": {},
   "outputs": [],
   "source": [
    "file_path=r\"C:\\Users\\shahr\\Downloads\\Assignment 08 - Assignment -Inferential Statistics -20230120T112415Z-001\\Assignment 08 - Assignment -Inferential Statistics\\0 CAC _ Case Study Data .xlsx\"\n",
    "data =pd.read_excel(file_path,sheet_name=None)\n"
   ]
  },
  {
   "cell_type": "code",
   "execution_count": 3,
   "id": "56e80205",
   "metadata": {},
   "outputs": [],
   "source": [
    "test_data=data['Test ']\n",
    "control_data=data['Control']\n",
    "\n"
   ]
  },
  {
   "cell_type": "code",
   "execution_count": 4,
   "id": "5b103065-d0fd-4987-894f-2a49d7fa8c26",
   "metadata": {},
   "outputs": [
    {
     "name": "stdout",
     "output_type": "stream",
     "text": [
      "     Kid Name   Age(In Years)            State  Is Male?  Is Rural Area ?  \\\n",
      "0  Test Kid 1                8  Andhra Pradesh         1                1   \n",
      "1   Test Kid 2               5  Andhra Pradesh         0                0   \n",
      "2   Test Kid 3              11  Andhra Pradesh         0                0   \n",
      "3   Test Kid 4              10  Andhra Pradesh         1                0   \n",
      "4   Test Kid 5               7  Andhra Pradesh         0                0   \n",
      "\n",
      "   Is Meat Consumer?  HouseHold Income per month  Base Height     Month 1  \\\n",
      "0                  1                       19246   121.558857  122.049170   \n",
      "1                  1                       53567   116.674871  116.896417   \n",
      "2                  1                       46239   136.984796  138.140627   \n",
      "3                  1                       14763   138.322360  138.779055   \n",
      "4                  1                       83715   119.125201  119.565419   \n",
      "\n",
      "      Month 2     Month 3    Month 4      Month 5     Month 6    Month 7   \\\n",
      "0  122.706444  122.736235  123.276547  123.454646  124.174699  125.263655   \n",
      "1  117.894872  118.516988  119.349262  120.321181  120.746032  120.914844   \n",
      "2  139.262955  140.229455  140.816388  141.670945  142.427871  143.663812   \n",
      "3  138.937282  139.217609  139.543622  140.488609  141.516997  142.130476   \n",
      "4  120.780713  121.200321  121.741269  122.971887  123.625173  125.100819   \n",
      "\n",
      "      Month 8     Month 9    Month 10    Month 11    Month 12  \n",
      "0  125.678132  126.748863  126.784243  127.212689  127.835989  \n",
      "1  121.966994  122.878387  124.001567  125.019515  125.048270  \n",
      "2  144.817848  145.236808  146.531490  146.797446  147.443869  \n",
      "3  142.215189  142.928736  143.586413  144.590368  145.044521  \n",
      "4  126.772573  128.169628  129.496312  129.922589  130.768735  \n"
     ]
    }
   ],
   "source": [
    "print(test_data.head())\n"
   ]
  },
  {
   "cell_type": "code",
   "execution_count": 5,
   "id": "c7140e2b",
   "metadata": {},
   "outputs": [
    {
     "name": "stdout",
     "output_type": "stream",
     "text": [
      "          Kid Name   Age(In Years)              State  Is Male?  \\\n",
      "0     Control Kid 1              10  Jammu & Kashmir          0   \n",
      "1    Control Kid 10               2  Jammu & Kashmir          1   \n",
      "2   Control Kid 100               9         Rajasthan         1   \n",
      "3  Control Kid 1000              10       Tamil Nadu          0   \n",
      "4   Control Kid 101              17         Rajasthan         1   \n",
      "\n",
      "   Is Rural Area ?  Is Meat Consumer?  HouseHold Income per month  \\\n",
      "0                1                  1                92620.405078   \n",
      "1                1                  0                54818.901794   \n",
      "2                1                  0                70644.700077   \n",
      "3                1                  1                66002.033030   \n",
      "4                1                  1                80633.102578   \n",
      "\n",
      "   Base Height     Month 1     Month 2     Month 3    Month 4      Month 5  \\\n",
      "0   123.593012  123.946823  124.205991  124.493156  124.630356  124.853042   \n",
      "1    93.937589   94.140783   94.409207   94.477681   94.849534   94.883007   \n",
      "2   133.431480  133.715893  134.106455  134.356008  134.575979  135.041954   \n",
      "3   129.336343  129.495101  129.989530  130.005897  130.384033  130.641883   \n",
      "4   174.086832  174.499471  175.331188  175.771048  176.469115  176.492834   \n",
      "\n",
      "      Month 6    Month 7      Month 8     Month 9    Month 10    Month 11  \\\n",
      "0  125.164774  125.171243  125.538908  125.655198  126.123840  126.410531   \n",
      "1   95.265629   95.382216   95.826262   96.173680   96.631926   96.796737   \n",
      "2  135.272322  135.456898  135.869125  136.077056  136.574979  136.889183   \n",
      "3  130.708637  130.976345  131.383418  131.471949  131.714286  131.882812   \n",
      "4  176.781431  177.375761  177.661580  178.271203  178.954915  179.452447   \n",
      "\n",
      "     Month 12  \n",
      "0  126.760821  \n",
      "1   96.992826  \n",
      "2  137.267993  \n",
      "3  132.340417  \n",
      "4  179.731554  \n"
     ]
    }
   ],
   "source": [
    "print(control_data.head())\n"
   ]
  },
  {
   "cell_type": "code",
   "execution_count": null,
   "id": "cef84a5a-8f63-4337-be3c-08b35219e212",
   "metadata": {},
   "outputs": [],
   "source": []
  },
  {
   "cell_type": "markdown",
   "id": "8bb128a1",
   "metadata": {},
   "source": [
    "## Data Processing - Calculate Height Increase"
   ]
  },
  {
   "cell_type": "code",
   "execution_count": 6,
   "id": "1c3953cf",
   "metadata": {},
   "outputs": [],
   "source": [
    "#Add a new column for Height Increase for the Test group:\n",
    "\n",
    "test_data['Height Increase'] = test_data['Month 12'] - test_data['Base Height']\n",
    "#Add a new column for Height Increase for the Control group:\n",
    "control_data['Height Increase'] = control_data['Month 12'] - control_data['Base Height']\n",
    "\n"
   ]
  },
  {
   "cell_type": "code",
   "execution_count": 7,
   "id": "1a33b179",
   "metadata": {},
   "outputs": [
    {
     "name": "stdout",
     "output_type": "stream",
     "text": [
      "     Kid Name   Height Increase\n",
      "0  Test Kid 1          6.277132\n",
      "1   Test Kid 2         8.373400\n",
      "2   Test Kid 3        10.459073\n",
      "3   Test Kid 4         6.722161\n",
      "4   Test Kid 5        11.643533\n",
      "          Kid Name   Height Increase\n",
      "0     Control Kid 1         3.167810\n",
      "1    Control Kid 10         3.055238\n",
      "2   Control Kid 100         3.836513\n",
      "3  Control Kid 1000         3.004074\n",
      "4   Control Kid 101         5.644722\n"
     ]
    }
   ],
   "source": [
    "print(test_data[['Kid Name ', 'Height Increase']].head())  # Preview the first 5 rows of test_data\n",
    "print(control_data[['Kid Name ', 'Height Increase']].head())  # Preview the first 5 rows of control_data\n"
   ]
  },
  {
   "cell_type": "markdown",
   "id": "0566ffee-fbaa-4702-b0a6-97e3377612bc",
   "metadata": {},
   "source": [
    "## Hypothesis Testing - Independent T-Test"
   ]
  },
  {
   "cell_type": "code",
   "execution_count": 8,
   "id": "bed7cd69",
   "metadata": {},
   "outputs": [],
   "source": [
    "#Perform the T-test to compare the Test and Control height increases:\n",
    "\n",
    "t_stat, p_value = stats.ttest_ind(test_data['Height Increase'], control_data['Height Increase'])\n",
    "\n",
    "\n"
   ]
  },
  {
   "cell_type": "code",
   "execution_count": 9,
   "id": "ff63055d",
   "metadata": {},
   "outputs": [
    {
     "name": "stdout",
     "output_type": "stream",
     "text": [
      "T-statistic:60.4904418734261\n",
      "P-value:0.0\n"
     ]
    }
   ],
   "source": [
    "#Print the T-statistic and P-value:\n",
    "print(f\"T-statistic:{t_stat}\")\n",
    "print(f\"P-value:{p_value}\")"
   ]
  },
  {
   "cell_type": "code",
   "execution_count": 10,
   "id": "c2828570",
   "metadata": {},
   "outputs": [
    {
     "name": "stdout",
     "output_type": "stream",
     "text": [
      " Reject the null hypothesis. there is a statistically significant difference.\n"
     ]
    }
   ],
   "source": [
    "#Interpretation based on the significance level:\n",
    "alpha =0.05  # significance level\n",
    "if p_value < alpha:\n",
    "    print(\" Reject the null hypothesis. there is a statistically significant difference.\")\n",
    "else:\n",
    "    print(\" Fail to reject the null hypothesis. No significant difference.\")"
   ]
  },
  {
   "cell_type": "raw",
   "id": "82daca56-c502-4d39-906a-6cd659947a79",
   "metadata": {},
   "source": []
  },
  {
   "cell_type": "markdown",
   "id": "29642658",
   "metadata": {},
   "source": [
    "\n",
    "## Group Data by Age and Calculate Average Height Increase\n"
   ]
  },
  {
   "cell_type": "code",
   "execution_count": 11,
   "id": "38362eae",
   "metadata": {},
   "outputs": [],
   "source": [
    "#Create age groups based on the Age(In Years) column for both Test and Control groups:\n",
    "test_data['Age Group'] = pd.cut(test_data['Age(In Years) '], bins=[0,5,10,15,20], labels=['0-5','6-10','11-15','16-20'])\n",
    "control_data['Age Group']=pd.cut(control_data['Age(In Years) '], bins=[0,5,10,15,20], labels=['0-5','6-10','11-15','16-20'])"
   ]
  },
  {
   "cell_type": "code",
   "execution_count": 12,
   "id": "46e3a5b6-06ef-40f8-b6f2-2039ab5702f7",
   "metadata": {},
   "outputs": [
    {
     "name": "stderr",
     "output_type": "stream",
     "text": [
      "C:\\Users\\shahr\\AppData\\Local\\Temp\\ipykernel_15828\\4069633469.py:2: FutureWarning: The default of observed=False is deprecated and will be changed to True in a future version of pandas. Pass observed=False to retain current behavior or observed=True to adopt the future default and silence this warning.\n",
      "  test_age_group_avg = test_data.groupby('Age Group')['Height Increase'].mean()\n",
      "C:\\Users\\shahr\\AppData\\Local\\Temp\\ipykernel_15828\\4069633469.py:3: FutureWarning: The default of observed=False is deprecated and will be changed to True in a future version of pandas. Pass observed=False to retain current behavior or observed=True to adopt the future default and silence this warning.\n",
      "  control_age_group_avg = control_data.groupby('Age Group')['Height Increase'].mean()\n"
     ]
    }
   ],
   "source": [
    "#Calculate the average height increase by Age Group for both Test and Control:\n",
    "test_age_group_avg = test_data.groupby('Age Group')['Height Increase'].mean()\n",
    "control_age_group_avg = control_data.groupby('Age Group')['Height Increase'].mean()"
   ]
  },
  {
   "cell_type": "code",
   "execution_count": 13,
   "id": "84b1fde8-8222-46a0-ae41-e695dbe04c14",
   "metadata": {},
   "outputs": [
    {
     "name": "stdout",
     "output_type": "stream",
     "text": [
      " Average Height Increase by Age Group(Test):\n",
      "Age Group\n",
      "0-5      6.909888\n",
      "6-10     7.430769\n",
      "11-15    7.017579\n",
      "16-20    6.901318\n",
      "Name: Height Increase, dtype: float64\n",
      "\n",
      "Average Height Increase by Age Group(Control):\n",
      "Age Group\n",
      "0-5      3.689064\n",
      "6-10     2.977788\n",
      "11-15    3.021855\n",
      "16-20    4.033209\n",
      "Name: Height Increase, dtype: float64\n"
     ]
    }
   ],
   "source": [
    "#Display the results:\n",
    "print(\" Average Height Increase by Age Group(Test):\")\n",
    "print(test_age_group_avg)\n",
    "\n",
    "print(\"\\nAverage Height Increase by Age Group(Control):\")\n",
    "print(control_age_group_avg)\n",
    "      "
   ]
  },
  {
   "cell_type": "markdown",
   "id": "4d707fb1-a64b-401b-94b2-864f3cc874cc",
   "metadata": {},
   "source": [
    " Visualization - Height Increase by Age Group"
   ]
  },
  {
   "cell_type": "code",
   "execution_count": 14,
   "id": "d9e2945e-b9af-45c6-8f11-7c64ee7503ba",
   "metadata": {},
   "outputs": [
    {
     "data": {
      "image/png": "[encoded data removed]",
      "text/plain": [
       "<Figure size 1000x600 with 1 Axes>"
      ]
     },
     "metadata": {},
     "output_type": "display_data"
    }
   ],
   "source": [
    "plt.figure(figsize=(10, 6))  # Set the figure size\n",
    "plt.bar(test_age_group_avg.index, test_age_group_avg, width=0.4, label='Test Group', align='center')\n",
    "plt.bar(control_age_group_avg.index, control_age_group_avg, width=0.4, label='Control Group', align='edge')\n",
    "plt.xlabel('Age Group')  # X-axis label\n",
    "plt.ylabel('Average Height Increase (cm)')  # Y-axis label\n",
    "plt.title('Average Height Increase by Age Group')  # Plot title\n",
    "plt.legend()  # Display the legend to differentiate between Test and Control groups\n",
    "plt.show()  # Show the plot\n"
   ]
  },
  {
   "cell_type": "markdown",
   "id": "44dfccb7",
   "metadata": {},
   "source": [
    "## Conclusion"
   ]
  },
  {
   "cell_type": "code",
   "execution_count": 15,
   "id": "3c2ae11c",
   "metadata": {},
   "outputs": [
    {
     "name": "stdout",
     "output_type": "stream",
     "text": [
      "Conclusion: Height increase is statistically significant. BlueBull enhances children's growth.\n"
     ]
    }
   ],
   "source": [
    "if p_value < 0.05:  \n",
    "    print(\"Conclusion: Height increase is statistically significant. BlueBull enhances children's growth.\")  \n",
    "else:  \n",
    "    print(\"Conclusion: No significant difference in height increase.\")  \n"
   ]
  },
  {
   "cell_type": "code",
   "execution_count": null,
   "id": "7bc1c333",
   "metadata": {},
   "outputs": [],
   "source": [
    " "
   ]
  }
 ],
 "metadata": {
  "kernelspec": {
   "display_name": "Python 3 (ipykernel)",
   "language": "python",
   "name": "python3"
  },
  "language_info": {
   "codemirror_mode": {
    "name": "ipython",
    "version": 3
   },
   "file_extension": ".py",
   "mimetype": "text/x-python",
   "name": "python",
   "nbconvert_exporter": "python",
   "pygments_lexer": "ipython3",
   "version": "3.12.4"
  }
 },
 "nbformat": 4,
 "nbformat_minor": 5
}
